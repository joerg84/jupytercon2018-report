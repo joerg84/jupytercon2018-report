{
 "cells": [
  {
   "cell_type": "markdown",
   "metadata": {},
   "source": [
    "# JupyterCon 2018 Report"
   ]
  },
  {
   "cell_type": "markdown",
   "metadata": {},
   "source": [
    "Last week https://conferences.oreilly.com/jupyter/jup-ny\n",
    "\n",
    "If you don't know what jupyter is\n",
    "\n",
    "## Reproducibilty\n",
    "    “Supporting reproducibility in Jupyter through dataflow notebooks”\n",
    "    https://conferences.oreilly.com/jupyter/jup-ny/public/schedule/detail/68448\n",
    "    More below\n",
    "     \n",
    "\n",
    "    Explorations in reproducible analysis with Nodebook\n",
    "    https://conferences.oreilly.com/jupyter/jup-ny/public/schedule/detail/68344\n",
    "\n",
    "##  Open Source\n",
    "    * Technology: Netflix\n",
    "    * Data and code:  \n",
    "\n",
    "## Binder and mybinder \n",
    "\n",
    "    See more below\n",
    "\n",
    "## Business (replacing bash at Netflix)\n",
    "    https://conferences.oreilly.com/jupyter/jup-ny/public/schedule/detail/71426\n",
    "\t\tHow jupyter connects data scientist and data engineer \n",
    "\n",
    "## Impact on Teaching\n",
    "   \n",
    "   Keynote Berkeley\n",
    "    \n",
    "        \n",
    "\tFernando creator of Ipython, co-founder of jupyter\n",
    "\t“Mass literacy in reading/writing software”\n",
    "\t1300 Students, filled theater… Data Science Class        https://www.inferentialthinking.com/chapters/intro\n",
    "    Interact -> live version on mybinder\n",
    "    Tools/Templates for lectures\n",
    "    Berkeley internal data hub\n",
    "    \n",
    "    Jupyter in Journalism (and education)\n",
    "\tTwitter bots\n",
    "Same as the Journalism’s notebook stands for curiosity and accountabilty \n",
    "https://conferences.oreilly.com/jupyter/jup-ny/public/schedule/detail/70966\n",
    "\n"
   ]
  },
  {
   "cell_type": "markdown",
   "metadata": {},
   "source": [
    "# Keynote: Trends by Paco Nathan"
   ]
  },
  {
   "cell_type": "markdown",
   "metadata": {},
   "source": [
    "## Netflix\n",
    "\n",
    "Keynote + \n",
    " \n",
    "Scheduled notebooks: A means for manageable and traceable code execution\n",
    "https://conferences.oreilly.com/jupyter/jup-ny/public/schedule/detail/68348\n"
   ]
  },
  {
   "cell_type": "markdown",
   "metadata": {},
   "source": [
    "\n",
    "# Binder & Mybinder.org\n",
    "\n",
    "If you havent experienced binder yet,  -> \n",
    "github is already great at rendering ..\n",
    "but if you want to execute, need to download start server...\n",
    "Wouldn't it be much cooler if there is a single klick....\n",
    "\n",
    "\n",
    "https://mybinder.org/v2/gh/AllenDowney/ThinkDSP/master?filepath=code/cacophony.ipynb\n",
    "binder \n",
    "\n",
    "sharing notebooks\n",
    "\n",
    "Binder\n",
    "\tMybinder\n",
    "https://conferences.oreilly.com/jupyter/jup-ny/public/schedule/detail/68437\n",
    "ALL OSS\n",
    "\n",
    "https://github.com/jupyterhub/binder-data\n",
    "\n",
    "Binder\n",
    "https://conferences.oreilly.com/jupyter/jup-ny/public/schedule/detail/68379\n",
    "RepoToDocker\n",
    "\n",
    "Just a link to klick\n",
    "362 new repos in the last week on mybinder \n",
    "\n",
    "\n",
    "Share\n"
   ]
  },
  {
   "cell_type": "markdown",
   "metadata": {},
   "source": [
    "# Supporting reproducibility in Jupyter through dataflow notebooks\n",
    "https://conferences.oreilly.com/jupyter/jup-ny/public/schedule/detail/68448\n",
    "\n",
    "Reproducible Notebook = f(data, code)\n",
    "Code has gotten most of the attention\n",
    "Dataflow kernel https://dataflownb.github.io/\n",
    "Quilt https://quiltdata.com/\n",
    "Versioned libraries of data\n",
    "Publish data\n",
    "Slicing by query using presto https://aws.amazon.com/big-data/what-is-presto/\n",
    "-> Version Data + Code\n",
    "https://blog.jupyter.org/reproducible-data-dependencies-for-python-guest-post-d0f68293a99\n",
    "\n",
    "Jupyter’s configuration system\n",
    "https://conferences.oreilly.com/jupyter/jup-ny/public/schedule/detail/71220\n",
    "\n",
    "Jupyter’s Python-based configuration systems (via traitlets.config)\n",
    "How to set configuration settings on the command line, in configuration files, or in programmatic code (and why you’d want to)\n",
    "The many scopes of configuration and how to use them to your advantage\n",
    "What server extensions are and how to install, enable, and disable them\n",
    "How to build configurable API handlers and nonconfigurable API handlers that can still use configuration files\n",
    "How to use jupyter_conf_search to help you hunt down configuration issues\n",
    "JupyterLab’s configuration systems\n",
    "How to use themes\n",
    "How to set custom keybindings\n",
    "How to save and manipulate user sessions (i.e., JupyterLab workspaces)\n",
    "How to enable and disable labextensions\n",
    "JupyterLab’s hierarchical semantics for creating defaults and allowing overrides\n"
   ]
  },
  {
   "cell_type": "markdown",
   "metadata": {},
   "source": [
    "# Two Sigma Keynote\n",
    "https://conferences.oreilly.com/jupyter/jup-ny/public/schedule/detail/71424\n",
    "\n",
    "Julia talking about payoff of OSS involvement\n",
    "\tStarted by using OSS\n",
    "\tAnd then starte to contribute back\n",
    "\n",
    "\tLeverage other peoples work, not re-invent the wheel\n",
    "\tShape product/ecosystem\n",
    "\tAvoid Galapagos effect, avoid isolation\n",
    "\t“Be cool” & Build Legacy\n"
   ]
  },
  {
   "cell_type": "code",
   "execution_count": null,
   "metadata": {},
   "outputs": [],
   "source": []
  }
 ],
 "metadata": {
  "kernelspec": {
   "display_name": "Python 3",
   "language": "python",
   "name": "python3"
  },
  "language_info": {
   "codemirror_mode": {
    "name": "ipython",
    "version": 3
   },
   "file_extension": ".py",
   "mimetype": "text/x-python",
   "name": "python",
   "nbconvert_exporter": "python",
   "pygments_lexer": "ipython3",
   "version": "3.6.4"
  }
 },
 "nbformat": 4,
 "nbformat_minor": 2
}
